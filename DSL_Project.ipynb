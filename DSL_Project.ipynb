{
  "nbformat": 4,
  "nbformat_minor": 0,
  "metadata": {
    "colab": {
      "name": "DSL Project V2.ipynb",
      "provenance": [],
      "collapsed_sections": [
        "SC6mIkEP-Nto",
        "dhy_aD0VYuR4",
        "HMWidb0m4q49",
        "k7HutWrrwac0",
        "PmHTnEwQwkBE",
        "1kiyr6o4IHla",
        "Sg5iex_J1rx_"
      ],
      "toc_visible": true
    },
    "kernelspec": {
      "name": "python3",
      "display_name": "Python 3"
    }
  },
  "cells": [
    {
      "cell_type": "markdown",
      "metadata": {
        "id": "L-yVJcXq5jKZ",
        "colab_type": "text"
      },
      "source": [
        "# Import"
      ]
    },
    {
      "cell_type": "code",
      "metadata": {
        "id": "fvYSlQc5Hy18",
        "colab_type": "code",
        "colab": {}
      },
      "source": [
        "!pip3 install librosa --upgrade\n",
        "!pip install pysndfx --upgrade\n",
        "!apt install sox --upgrade"
      ],
      "execution_count": null,
      "outputs": []
    },
    {
      "cell_type": "code",
      "metadata": {
        "id": "FuCj0pEvO1cX",
        "colab_type": "code",
        "colab": {}
      },
      "source": [
        "import ast\n",
        "import os\n",
        "import librosa\n",
        "import librosa.display\n",
        "import pandas as pd\n",
        "import numpy as np\n",
        "import seaborn as sns\n",
        "import zipfile\n",
        "import sklearn.metrics as metrics\n",
        "import matplotlib.pyplot as plt\n",
        "from sklearn.utils import shuffle\n",
        "\n",
        "from google.colab import drive\n",
        "\n",
        "from sklearn.preprocessing import StandardScaler\n",
        "from sklearn.model_selection import train_test_split\n",
        "from sklearn.feature_selection import SelectKBest, f_classif\n",
        "from sklearn.decomposition import PCA\n",
        "from sklearn.ensemble import RandomForestClassifier\n",
        "from sklearn import svm\n",
        "from sklearn.linear_model import SGDClassifier\n",
        "from sklearn.neighbors import KNeighborsClassifier\n",
        "from sklearn.linear_model import LogisticRegression\n",
        "from sklearn.naive_bayes import GaussianNB\n",
        "\n",
        "from pysndfx import AudioEffectsChain\n",
        "from sklearn.ensemble import IsolationForest\n",
        "from sklearn.neighbors import LocalOutlierFactor\n",
        "from sklearn.covariance import EllipticEnvelope\n",
        "\n",
        "drive.mount('/content/drive/')\n"
      ],
      "execution_count": null,
      "outputs": []
    },
    {
      "cell_type": "code",
      "metadata": {
        "id": "NFs7rrGiIQPJ",
        "colab_type": "code",
        "colab": {}
      },
      "source": [
        "print(librosa.__version__)"
      ],
      "execution_count": null,
      "outputs": []
    },
    {
      "cell_type": "code",
      "metadata": {
        "id": "9Mvv2oYegF2H",
        "colab_type": "code",
        "colab": {}
      },
      "source": [
        "def from_np_array(array_string):\n",
        "    array_string = ','.join(array_string.replace('[ ', '[').split())\n",
        "    return np.array(ast.literal_eval(array_string))"
      ],
      "execution_count": null,
      "outputs": []
    },
    {
      "cell_type": "markdown",
      "metadata": {
        "id": "HjEuV64G8mfi",
        "colab_type": "text"
      },
      "source": [
        "# Data structure"
      ]
    },
    {
      "cell_type": "code",
      "metadata": {
        "id": "1EUnreEZ6aYE",
        "colab_type": "code",
        "colab": {}
      },
      "source": [
        "dev_headers = np.array([])\n",
        "mfcc_header = np.array([])\n",
        "for i in range (0,40):\n",
        "    dev_headers = np.append(dev_headers,\"mfccs\"+str(i+1)) \n",
        "    mfcc_header = np.append(mfcc_header,\"mfccs\"+str(i+1)) \n",
        "for i in range(0,12):\n",
        "    dev_headers = np.append(dev_headers,\"chroma\"+str(i+1)) \n",
        "    \n",
        "dev_headers = np.append(dev_headers,\"zero_crossing\")\n",
        "dev_headers = np.append(dev_headers,\"spectral_bandwidth\")\n",
        "dev_headers = np.append(dev_headers,\"spectral_centroids\") \n",
        "dev_headers = np.append(dev_headers,\"roll_off\")\n",
        "dev_headers = np.append(dev_headers,\"label\")\n",
        "\n",
        "dfDevelopment = pd.DataFrame(columns=dev_headers)"
      ],
      "execution_count": null,
      "outputs": []
    },
    {
      "cell_type": "code",
      "metadata": {
        "id": "WKeYbB8KDFoF",
        "colab_type": "code",
        "colab": {}
      },
      "source": [
        "eval_headers = np.array([])\n",
        "mfcc_header = np.array([])\n",
        "for i in range (0,40):\n",
        "    eval_headers = np.append(eval_headers,\"mfccs\"+str(i+1)) \n",
        "    mfcc_header = np.append(mfcc_header,\"mfccs\"+str(i+1)) \n",
        "for i in range(0,12):\n",
        "    eval_headers = np.append(eval_headers,\"chroma\"+str(i+1)) \n",
        "    \n",
        "eval_headers = np.append(eval_headers,\"zero_crossing\")\n",
        "eval_headers = np.append(eval_headers,\"spectral_bandwidth\")\n",
        "eval_headers = np.append(eval_headers,\"spectral_centroids\") \n",
        "eval_headers = np.append(eval_headers,\"roll_off\")\n",
        "eval_headers = np.append(eval_headers,\"Id\")\n",
        "\n",
        "dfEvaluation = pd.DataFrame(columns=eval_headers)"
      ],
      "execution_count": null,
      "outputs": []
    },
    {
      "cell_type": "markdown",
      "metadata": {
        "id": "ZzHhaomlch1A",
        "colab_type": "text"
      },
      "source": [
        "# Data Exploration"
      ]
    },
    {
      "cell_type": "markdown",
      "metadata": {
        "id": "R9LBr6uCBhS6",
        "colab_type": "text"
      },
      "source": [
        "## Take data"
      ]
    },
    {
      "cell_type": "markdown",
      "metadata": {
        "id": "ASTS1gI7W-E-",
        "colab_type": "text"
      },
      "source": [
        "Extraction of development data, analysis of audio file and coefficients extraction by using Librosa library"
      ]
    },
    {
      "cell_type": "code",
      "metadata": {
        "id": "MeFqo5WzO4kT",
        "colab_type": "code",
        "colab": {}
      },
      "source": [
        "#Extract development Data from the Drive Zip in a temporary folder\n",
        "zip_ref = zipfile.ZipFile(\"/content/drive/My Drive/DSL_Data/development.zip\", 'r')\n",
        "zip_ref.extractall(\"/dev_tmp\")\n",
        "zip_ref.close()"
      ],
      "execution_count": null,
      "outputs": []
    },
    {
      "cell_type": "code",
      "metadata": {
        "id": "E6HE5arGVX-l",
        "colab_type": "code",
        "colab": {}
      },
      "source": [
        "if(os.path.isfile('drive/My Drive/DSL_Data/dev.csv') == False ):\n",
        "  for folder in os.listdir(\"/dev_tmp/development\"):\n",
        "    new_path = \"/dev_tmp/development/\" + folder\n",
        "    for file in os.listdir(new_path):\n",
        "      name = file.split(\".\")[0]\n",
        "      data,sample_rate=librosa.load(new_path + \"/\" + file)\n",
        "\n",
        "      extractedMFCC = np.mean(librosa.feature.mfcc(y=data,sr=sample_rate,n_mfcc=40).T,axis=0)\n",
        "      S, phase = librosa.magphase(librosa.stft(data))\n",
        "      rolloff = np.mean(librosa.feature.spectral_rolloff(S = S, sr = sample_rate).T, axis = 0)\n",
        "      spectral_centroids = np.mean(librosa.feature.spectral_centroid(data, sr = sample_rate).T, axis = 0)\n",
        "      spectral_bandwidth = np.mean(librosa.feature.spectral_bandwidth(data, sr = sample_rate).T, axis = 0)\n",
        "      zero_crossings = np.sum(librosa.zero_crossings(data, pad=False), axis = 0)\n",
        "      chromagram = np.mean(librosa.feature.chroma_stft(data, sr = sample_rate).T,axis = 0)\n",
        "\n",
        "      feature=np.hstack((extractedMFCC,chromagram,zero_crossings,spectral_bandwidth,spectral_centroids,rolloff,folder)).reshape(1,57)\n",
        "      dfDevelopment = dfDevelopment.append(pd.DataFrame(feature,columns=dev_headers))\n",
        "\n",
        "  dfDevelopment.to_csv('dev.csv',index=False)\n",
        "  !cp dev.csv \"drive/My Drive/DSL_Data\"\n",
        "else:\n",
        "  dfDevelopment = pd.read_csv('drive/My Drive/DSL_Data/dev.csv')"
      ],
      "execution_count": null,
      "outputs": []
    },
    {
      "cell_type": "code",
      "metadata": {
        "id": "T804e4mFIpMW",
        "colab_type": "code",
        "colab": {}
      },
      "source": [
        "dfDevelopment.head()"
      ],
      "execution_count": null,
      "outputs": []
    },
    {
      "cell_type": "markdown",
      "metadata": {
        "id": "aCIRpzd3XNwQ",
        "colab_type": "text"
      },
      "source": [
        "Extraction of evaluation data, analysis of audio file and coefficients extraction by using Librosa library"
      ]
    },
    {
      "cell_type": "code",
      "metadata": {
        "id": "_mBIeIppVNgy",
        "colab_type": "code",
        "colab": {}
      },
      "source": [
        "#Extract evaluation Data from the Drive Zip in a temporary folder\n",
        "zip_ref = zipfile.ZipFile(\"/content/drive/My Drive/DSL_Data/evaluation.zip\", 'r')\n",
        "zip_ref.extractall(\"/ev_tmp\")\n",
        "zip_ref.close()"
      ],
      "execution_count": null,
      "outputs": []
    },
    {
      "cell_type": "code",
      "metadata": {
        "id": "29CGqBLlS86i",
        "colab_type": "code",
        "colab": {}
      },
      "source": [
        "if(os.path.isfile('drive/My Drive/DSL_Data/eval.csv') == False ):\n",
        "  for o in os.listdir(\"/ev_tmp/evaluation\"):\n",
        "    name = o.split(\".\")[0]\n",
        "    data,sample_rate=librosa.load(\"/ev_tmp/evaluation/\" + o)\n",
        "    #data = librosa.util.normalize(data)\n",
        "\n",
        "    extractedMFCC = np.mean(librosa.feature.mfcc(y=data,sr=sample_rate,n_mfcc=40).T,axis=0)\n",
        "    S, phase = librosa.magphase(librosa.stft(data))\n",
        "    rolloff = np.mean(librosa.feature.spectral_rolloff(S = S, sr = sample_rate).T, axis = 0)\n",
        "    spectral_centroids = np.mean(librosa.feature.spectral_centroid(data, sr = sample_rate).T, axis = 0)\n",
        "    spectral_bandwidth = np.mean(librosa.feature.spectral_bandwidth(data, sr = sample_rate).T, axis = 0)\n",
        "    zero_crossings = np.sum(librosa.zero_crossings(data, pad=False), axis = 0)\n",
        "    chromagram = np.mean(librosa.feature.chroma_stft(data, sr = sample_rate).T,axis = 0)\n",
        "\n",
        "    feature=np.hstack((extractedMFCC,chromagram,zero_crossings,spectral_bandwidth,spectral_centroids,rolloff, name)).reshape(1,57)\n",
        "    dfEvaluation = dfEvaluation.append( pd.DataFrame(feature, columns= eval_headers))\n",
        "  dfEvaluation.to_csv('eval.csv',index=False)\n",
        "\n",
        "  !cp eval.csv \"drive/My Drive/DSL_Data\"\n",
        "else:\n",
        "  dfEvaluation = pd.read_csv('drive/My Drive/DSL_Data/eval.csv')"
      ],
      "execution_count": null,
      "outputs": []
    },
    {
      "cell_type": "code",
      "metadata": {
        "id": "HMsJthNU_S0n",
        "colab_type": "code",
        "colab": {}
      },
      "source": [
        "dfEvaluation.head()"
      ],
      "execution_count": null,
      "outputs": []
    },
    {
      "cell_type": "markdown",
      "metadata": {
        "id": "k_1R_AgL-KaT",
        "colab_type": "text"
      },
      "source": [
        "## Labels count-plot"
      ]
    },
    {
      "cell_type": "code",
      "metadata": {
        "id": "RHwrsb7p8gz3",
        "colab_type": "code",
        "colab": {}
      },
      "source": [
        "sns.countplot('label', data=dfDevelopment)\n",
        "plt.title('Label distribuition among the dataset', fontsize=14)\n",
        "plt.show()"
      ],
      "execution_count": null,
      "outputs": []
    },
    {
      "cell_type": "markdown",
      "metadata": {
        "id": "SC6mIkEP-Nto",
        "colab_type": "text"
      },
      "source": [
        "## Outliers detection"
      ]
    },
    {
      "cell_type": "code",
      "metadata": {
        "id": "Soxq7_NZ-RXf",
        "colab_type": "code",
        "colab": {}
      },
      "source": [
        "length = np.array([])\n",
        "for folder in os.listdir(\"/dev_tmp/development\"):\n",
        "  new_path = \"/dev_tmp/development/\" + folder\n",
        "  if( folder != 'desktop.ini'):\n",
        "    for file in os.listdir(new_path):\n",
        "        name = file.split(\".\")[0]\n",
        "        if( name != 'desktop'):\n",
        "          length = np.append(length, librosa.get_duration(filename= new_path +  '/' + name + '.wav') )"
      ],
      "execution_count": null,
      "outputs": []
    },
    {
      "cell_type": "code",
      "metadata": {
        "id": "ejpKiN8v-TuT",
        "colab_type": "code",
        "colab": {}
      },
      "source": [
        "print( np.mean(length) )\n",
        "print( np.max(length) )\n",
        "print( np.min(length ) )"
      ],
      "execution_count": null,
      "outputs": []
    },
    {
      "cell_type": "code",
      "metadata": {
        "id": "2VCUGxq23dDR",
        "colab_type": "code",
        "colab": {}
      },
      "source": [
        "result = np.where(length >= 0.45)"
      ],
      "execution_count": null,
      "outputs": []
    },
    {
      "cell_type": "code",
      "metadata": {
        "id": "idQSlaUA6Ejt",
        "colab_type": "code",
        "colab": {}
      },
      "source": [
        "a = pd.Series(result)"
      ],
      "execution_count": null,
      "outputs": []
    },
    {
      "cell_type": "code",
      "metadata": {
        "id": "c920AtpL13Yk",
        "colab_type": "code",
        "colab": {}
      },
      "source": [
        "dfDevelopment = dfDevelopment.take( a[0] )"
      ],
      "execution_count": null,
      "outputs": []
    },
    {
      "cell_type": "code",
      "metadata": {
        "id": "mI2HYFBvD5ob",
        "colab_type": "code",
        "colab": {}
      },
      "source": [
        "dfDevelopment.describe(percentiles=[.25,.5,.75])"
      ],
      "execution_count": null,
      "outputs": []
    },
    {
      "cell_type": "code",
      "metadata": {
        "id": "jgZMm2v77Xlv",
        "colab_type": "code",
        "colab": {}
      },
      "source": [
        "dfDevelopment = dfDevelopment[dfDevelopment.roll_off != 0]"
      ],
      "execution_count": null,
      "outputs": []
    },
    {
      "cell_type": "code",
      "metadata": {
        "id": "C0Ab35NeIG1s",
        "colab_type": "code",
        "colab": {}
      },
      "source": [
        "# outDec = IsolationForest(random_state=42).fit_predict(dfDevelopment.drop('label', axis=1))\n",
        "outDec = LocalOutlierFactor(n_neighbors=300).fit_predict(dfDevelopment.drop('label', axis=1))\n",
        "# outDec = EllipticEnvelope().fit_predict(dfDevelopment.drop('label', axis=1))"
      ],
      "execution_count": null,
      "outputs": []
    },
    {
      "cell_type": "code",
      "metadata": {
        "id": "Ek8TM5yUzBkK",
        "colab_type": "code",
        "colab": {}
      },
      "source": [
        "c = pd.Series(outDec)\n",
        "dfDevelopment = dfDevelopment.reset_index( )\n",
        "\n",
        "dfDevelopment[c == -1].describe() "
      ],
      "execution_count": null,
      "outputs": []
    },
    {
      "cell_type": "code",
      "metadata": {
        "id": "L3udYTsu0n1Y",
        "colab_type": "code",
        "colab": {}
      },
      "source": [
        "dfDevelopment[c == -1].groupby('label').count()"
      ],
      "execution_count": null,
      "outputs": []
    },
    {
      "cell_type": "code",
      "metadata": {
        "id": "TLCzxglT7pp7",
        "colab_type": "code",
        "colab": {}
      },
      "source": [
        "dfDevelopment = dfDevelopment[c == 1].drop('index', axis = 1)"
      ],
      "execution_count": null,
      "outputs": []
    },
    {
      "cell_type": "code",
      "metadata": {
        "id": "HGKb6iwC-RQY",
        "colab_type": "code",
        "colab": {}
      },
      "source": [
        "dfDevelopment.head()"
      ],
      "execution_count": null,
      "outputs": []
    },
    {
      "cell_type": "code",
      "metadata": {
        "id": "DuIFE2lj-Icw",
        "colab_type": "code",
        "colab": {}
      },
      "source": [
        "sns.countplot('label', data=dfDevelopment)\n",
        "plt.title('Label distribuition among the dataset', fontsize=14)\n",
        "plt.show()"
      ],
      "execution_count": null,
      "outputs": []
    },
    {
      "cell_type": "markdown",
      "metadata": {
        "id": "Tb_QGH4oUiYI",
        "colab_type": "text"
      },
      "source": [
        "# Preprocessing\n"
      ]
    },
    {
      "cell_type": "markdown",
      "metadata": {
        "id": "dhy_aD0VYuR4",
        "colab_type": "text"
      },
      "source": [
        "## Noise Reduction"
      ]
    },
    {
      "cell_type": "markdown",
      "metadata": {
        "id": "lRvhQ1nM74wV",
        "colab_type": "text"
      },
      "source": [
        "This part needed to be run in place of the \"take data\" part"
      ]
    },
    {
      "cell_type": "code",
      "metadata": {
        "id": "KEVo2vPIUu92",
        "colab_type": "code",
        "colab": {}
      },
      "source": [
        "def reduce_noise_centroid_s(y, sr):\n",
        "\n",
        "    cent = librosa.feature.spectral_centroid(y=y, sr=sr)\n",
        "\n",
        "    threshold_h = min(np.max(cent), 100)\n",
        "    threshold_l = max(np.min(cent), 100)\n",
        "\n",
        "    less_noise = AudioEffectsChain().lowshelf(gain=-12.0, frequency=threshold_l, slope=0.5).highshelf(gain=-12.0, frequency=threshold_h, slope=0.5).limiter(gain=6.0)\n",
        "\n",
        "    y_cleaned = less_noise(y)\n",
        "\n",
        "    return y_cleaned"
      ],
      "execution_count": null,
      "outputs": []
    },
    {
      "cell_type": "code",
      "metadata": {
        "id": "QmxPuOPZUlXR",
        "colab_type": "code",
        "colab": {}
      },
      "source": [
        "if(os.path.isfile('drive/My Drive/DSL_Data/cleaned_dev.csv') == False ):\n",
        "  for folder in os.listdir(\"/dev_tmp/development\"):\n",
        "    new_path = \"/dev_tmp/development/\" + folder\n",
        "    for file in os.listdir(new_path):\n",
        "      name = file.split(\".\")[0]\n",
        "      data,sample_rate=librosa.load(new_path + \"/\" + file)\n",
        "      data = reduce_noise_centroid_s(data, sample_rate)\n",
        "\n",
        "      extractedMFCC = np.mean(librosa.feature.mfcc(y=data,sr=sample_rate,n_mfcc=40).T,axis=0)\n",
        "      S, phase = librosa.magphase(librosa.stft(data))\n",
        "      rolloff = np.mean(librosa.feature.spectral_rolloff(S = S, sr = sample_rate).T, axis = 0)\n",
        "      spectral_centroids = np.mean(librosa.feature.spectral_centroid(data, sr = sample_rate).T, axis = 0)\n",
        "      spectral_bandwidth = np.mean(librosa.feature.spectral_bandwidth(data, sr = sample_rate).T, axis = 0)\n",
        "      zero_crossings = np.sum(librosa.zero_crossings(data, pad=False), axis = 0)\n",
        "      chromagram = np.mean(librosa.feature.chroma_stft(data, sr = sample_rate).T,axis = 0)\n",
        "\n",
        "      feature=np.hstack((extractedMFCC,chromagram,zero_crossings,spectral_bandwidth,spectral_centroids,rolloff,folder)).reshape(1,57)\n",
        "      dfDevelopment = dfDevelopment.append(pd.DataFrame(feature,columns=headers))\n",
        "\n",
        "\n",
        "  dfDevelopment.to_csv('cleaned_dev.csv',index=False)\n",
        "  !cp cleaned_dev.csv \"drive/My Drive/DSL_Data\"\n",
        "else:\n",
        "  dfDevelopment = pd.read_csv('drive/My Drive/DSL_Data/cleaned_dev.csv', converters={'features': from_np_array}) "
      ],
      "execution_count": null,
      "outputs": []
    },
    {
      "cell_type": "code",
      "metadata": {
        "id": "5J7s7t5nVr1_",
        "colab_type": "code",
        "colab": {}
      },
      "source": [
        "if(os.path.isfile('drive/My Drive/DSL_Data/cleaned_eval.csv') == False ):\n",
        "  dfEvaluation = pd.DataFrame(columns=['Id', 'features'])  \n",
        "\n",
        "  for o in os.listdir(\"/ev_tmp/evaluation\"):\n",
        "    name = o.split(\".\")[0]\n",
        "    data,sample_rate=librosa.load(\"/ev_tmp/evaluation/\" + o)\n",
        "    data = reduce_noise_centroid_s(data, sample_rate)\n",
        "\n",
        "    extractedMFCC = np.mean(librosa.feature.mfcc(y=data,sr=sample_rate,n_mfcc=40).T,axis=0)\n",
        "    S, phase = librosa.magphase(librosa.stft(data))\n",
        "    rolloff = np.mean(librosa.feature.spectral_rolloff(S = S, sr = sample_rate).T, axis = 0)\n",
        "    spectral_centroids = np.mean(librosa.feature.spectral_centroid(data, sr = sample_rate).T, axis = 0)\n",
        "    spectral_bandwidth = np.mean(librosa.feature.spectral_bandwidth(data, sr = sample_rate).T, axis = 0)\n",
        "    zero_crossings = np.sum(librosa.zero_crossings(data, pad=False), axis = 0)\n",
        "    chromagram = np.mean(librosa.feature.chroma_stft(data, sr = sample_rate).T,axis = 0)\n",
        "    feature=np.hstack((extractedMFCC,chromagram,zero_crossings,spectral_bandwidth,spectral_centroids,rolloff, name)).reshape(1,57)\n",
        "    dfEvaluation = dfEvaluation.append( pd.DataFrame(feature, columns= dfEvaluation.columns.values))\n",
        "    \n",
        "  dfEvaluation.to_csv('cleaned_eval.csv',index=False)\n",
        "  !cp cleaned_eval.csv \"drive/My Drive/DSL_Data\"\n",
        "else:\n",
        "  dfEvaluation = pd.read_csv('drive/My Drive/DSL_Data/cleaned_eval.csv', converters={'features': from_np_array})"
      ],
      "execution_count": null,
      "outputs": []
    },
    {
      "cell_type": "markdown",
      "metadata": {
        "id": "AR2wiGRhG94y",
        "colab_type": "text"
      },
      "source": [
        "### Visualization noise reduction"
      ]
    },
    {
      "cell_type": "code",
      "metadata": {
        "id": "nV7i8V4gG9nu",
        "colab_type": "code",
        "colab": {}
      },
      "source": [
        "data,sample_rate=librosa.load(\"drive/My Drive/DSL_Data/EsempioNoiseReduction/0e1c80f230c3bac84e834abc1e8055dd2e7487fd317f90ad84eed42167e1eb9f.wav\")\n",
        "data_nr = reduce_noise_centroid_s(data, sample_rate)"
      ],
      "execution_count": null,
      "outputs": []
    },
    {
      "cell_type": "code",
      "metadata": {
        "id": "vSmgquJsG9l6",
        "colab_type": "code",
        "colab": {}
      },
      "source": [
        "plt.figure()\n",
        "librosa.display.waveplot(data, sr=sample_rate)\n",
        "librosa.display.waveplot(data_nr, sr=sample_rate)\n",
        "plt.title('Monophonic')"
      ],
      "execution_count": null,
      "outputs": []
    },
    {
      "cell_type": "markdown",
      "metadata": {
        "id": "T8hqbPzvAYRi",
        "colab_type": "text"
      },
      "source": [
        "## Standardization"
      ]
    },
    {
      "cell_type": "code",
      "metadata": {
        "id": "VRQsdK3952gn",
        "colab_type": "code",
        "colab": {}
      },
      "source": [
        "scaler = StandardScaler()"
      ],
      "execution_count": null,
      "outputs": []
    },
    {
      "cell_type": "code",
      "metadata": {
        "id": "dd5f1grNHeV2",
        "colab_type": "code",
        "colab": {}
      },
      "source": [
        "featuresDev = dfDevelopment.loc[:, dfDevelopment.columns != 'label']"
      ],
      "execution_count": null,
      "outputs": []
    },
    {
      "cell_type": "code",
      "metadata": {
        "id": "lBl3t6AeNIZC",
        "colab_type": "code",
        "colab": {}
      },
      "source": [
        "featuresEv = dfEvaluation.loc[:, dfEvaluation.columns != 'Id']"
      ],
      "execution_count": null,
      "outputs": []
    },
    {
      "cell_type": "code",
      "metadata": {
        "id": "vdKkVj2sRVPd",
        "colab_type": "code",
        "colab": {}
      },
      "source": [
        "featuresEv"
      ],
      "execution_count": null,
      "outputs": []
    },
    {
      "cell_type": "code",
      "metadata": {
        "id": "UanGVupK571l",
        "colab_type": "code",
        "colab": {}
      },
      "source": [
        "scaler = scaler.fit(featuresDev)"
      ],
      "execution_count": null,
      "outputs": []
    },
    {
      "cell_type": "code",
      "metadata": {
        "id": "NtnQREtb_PeW",
        "colab_type": "code",
        "colab": {}
      },
      "source": [
        "scaledDevDF = scaler.transform(featuresDev)"
      ],
      "execution_count": null,
      "outputs": []
    },
    {
      "cell_type": "code",
      "metadata": {
        "id": "t3va-5EfABpr",
        "colab_type": "code",
        "colab": {}
      },
      "source": [
        "scaledEvDF = scaler.transform(featuresEv )"
      ],
      "execution_count": null,
      "outputs": []
    },
    {
      "cell_type": "markdown",
      "metadata": {
        "id": "bck_G81i9U8A",
        "colab_type": "text"
      },
      "source": [
        "## Features Selection"
      ]
    },
    {
      "cell_type": "code",
      "metadata": {
        "id": "VmwvxCXf9_Dc",
        "colab_type": "code",
        "colab": {}
      },
      "source": [
        "kbest = SelectKBest(f_classif, k=45).fit(scaledDevDF, dfDevelopment['label'])"
      ],
      "execution_count": null,
      "outputs": []
    },
    {
      "cell_type": "code",
      "metadata": {
        "id": "S7RBcKO7-7q4",
        "colab_type": "code",
        "colab": {}
      },
      "source": [
        "scaledDevDF = kbest.transform(scaledDevDF)\n",
        "scaledEvDF = kbest.transform(scaledEvDF)"
      ],
      "execution_count": null,
      "outputs": []
    },
    {
      "cell_type": "code",
      "metadata": {
        "id": "gvLDaVbLBdvR",
        "colab_type": "code",
        "colab": {}
      },
      "source": [
        "kbest.get_support()"
      ],
      "execution_count": null,
      "outputs": []
    },
    {
      "cell_type": "code",
      "metadata": {
        "id": "QnK2UIvrBnLj",
        "colab_type": "code",
        "colab": {}
      },
      "source": [
        "for i, el in enumerate( kbest.get_support() ):\n",
        "  if el == True:\n",
        "    print(dev_headers[i])"
      ],
      "execution_count": null,
      "outputs": []
    },
    {
      "cell_type": "markdown",
      "metadata": {
        "id": "HMWidb0m4q49",
        "colab_type": "text"
      },
      "source": [
        "## Dimensionality Reduction"
      ]
    },
    {
      "cell_type": "code",
      "metadata": {
        "id": "VVJCKY1eFth6",
        "colab_type": "code",
        "colab": {}
      },
      "source": [
        "dfPCA_dev = PCA(.97).fit( scaledDevDF )"
      ],
      "execution_count": null,
      "outputs": []
    },
    {
      "cell_type": "code",
      "metadata": {
        "id": "eQKn03F0_2S3",
        "colab_type": "code",
        "colab": {}
      },
      "source": [
        "pcaDev = dfPCA_dev.transform(  scaledDevDF )"
      ],
      "execution_count": null,
      "outputs": []
    },
    {
      "cell_type": "code",
      "metadata": {
        "id": "9-BgBGegKkvh",
        "colab_type": "code",
        "colab": {}
      },
      "source": [
        "pcaEv = dfPCA_dev.transform(  scaledEvDF )"
      ],
      "execution_count": null,
      "outputs": []
    },
    {
      "cell_type": "code",
      "metadata": {
        "id": "AsHZQfagEJh4",
        "colab_type": "code",
        "colab": {}
      },
      "source": [
        "plt.plot(np.cumsum(dfPCA_dev.explained_variance_ratio_))\n",
        "plt.xlabel('number of components')\n",
        "plt.ylabel('cumulative explained variance');"
      ],
      "execution_count": null,
      "outputs": []
    },
    {
      "cell_type": "markdown",
      "metadata": {
        "id": "MQuvF_lxODl0",
        "colab_type": "text"
      },
      "source": [
        "# Classification algorithms"
      ]
    },
    {
      "cell_type": "code",
      "metadata": {
        "id": "Qt_P4Xtn89kY",
        "colab_type": "code",
        "colab": {}
      },
      "source": [
        "X_train, X_test, y_train, y_test = train_test_split(pcaDev, dfDevelopment['label'].tolist(), test_size=0.33, random_state=42)"
      ],
      "execution_count": null,
      "outputs": []
    },
    {
      "cell_type": "markdown",
      "metadata": {
        "id": "a14CMlURwU1d",
        "colab_type": "text"
      },
      "source": [
        "### Random Forest"
      ]
    },
    {
      "cell_type": "code",
      "metadata": {
        "id": "VRBxzjeLoEI2",
        "colab_type": "code",
        "colab": {}
      },
      "source": [
        "#Use the constructed dataset to predict speaker by Random Forest\n",
        "clfRF = RandomForestClassifier( criterion='entropy' )#n_estimators = 20, max_features = 'sqrt')\n",
        "dfRFC = dfEvaluation.copy()"
      ],
      "execution_count": null,
      "outputs": []
    },
    {
      "cell_type": "code",
      "metadata": {
        "id": "i8nqPJ5WcHmT",
        "colab_type": "code",
        "colab": {}
      },
      "source": [
        "print(metrics.f1_score(clfRF.fit(X_train, y_train).predict(X_test), y_test,average='macro'))\n",
        "\n",
        "res = clfRF.fit(pcaDev, dfDevelopment['label'].tolist()).predict( pcaEv )\n",
        "dfRFC['Predicted'] = res"
      ],
      "execution_count": null,
      "outputs": []
    },
    {
      "cell_type": "code",
      "metadata": {
        "id": "I-ZnN8stmesy",
        "colab_type": "code",
        "colab": {}
      },
      "source": [
        "dfRFC[['Id','Predicted']].to_csv('RF_solutions.csv',index=False)\n",
        "!cp RF_solutions.csv \"drive/My Drive/DSL_Data\""
      ],
      "execution_count": null,
      "outputs": []
    },
    {
      "cell_type": "code",
      "metadata": {
        "id": "cMhUkdYnUHDA",
        "colab_type": "code",
        "colab": {}
      },
      "source": [
        "from sklearn.metrics import plot_confusion_matrix"
      ],
      "execution_count": null,
      "outputs": []
    },
    {
      "cell_type": "code",
      "metadata": {
        "id": "PW6RX800Q-5R",
        "colab_type": "code",
        "colab": {}
      },
      "source": [
        "fig, ax = plt.subplots(figsize=(15, 15))\n",
        "plot_confusion_matrix(clfRF, X_test, y_test, cmap = plt.cm.Blues, ax = ax, normalize = 'true') \n",
        "plt.show()"
      ],
      "execution_count": null,
      "outputs": []
    },
    {
      "cell_type": "markdown",
      "metadata": {
        "id": "HmocLrYVwe8f",
        "colab_type": "text"
      },
      "source": [
        "### Support vector machine"
      ]
    },
    {
      "cell_type": "code",
      "metadata": {
        "id": "1eSEiO-zQQKr",
        "colab_type": "code",
        "colab": {}
      },
      "source": [
        "clfSVC = svm.SVC(kernel = 'rbf', C=100, gamma = .01)\n",
        "# dfSVM = dfEvaluation.copy()"
      ],
      "execution_count": null,
      "outputs": []
    },
    {
      "cell_type": "code",
      "metadata": {
        "id": "b-u44vNJa3_9",
        "colab_type": "code",
        "colab": {}
      },
      "source": [
        "print(metrics.f1_score(clfSVC.fit(X_train, y_train).predict( X_test ), y_test,average='macro'))\n",
        "\n",
        "# res = clfSVC.fit(pcaDev, dfDevelopment['label'].tolist()).predict( pcaEv )\n",
        "# dfSVM['Predicted'] = res"
      ],
      "execution_count": null,
      "outputs": []
    },
    {
      "cell_type": "code",
      "metadata": {
        "id": "ee7mNFeORQve",
        "colab_type": "code",
        "colab": {}
      },
      "source": [
        "fig, ax = plt.subplots(figsize=(15, 15))\n",
        "plot_confusion_matrix(clfSVC, X_test, y_test, cmap = plt.cm.Blues, ax = ax, normalize = 'true') \n",
        "plt.show()"
      ],
      "execution_count": null,
      "outputs": []
    },
    {
      "cell_type": "markdown",
      "metadata": {
        "id": "-GJEGlTPRIJv",
        "colab_type": "text"
      },
      "source": [
        "#### Fine tuning"
      ]
    },
    {
      "cell_type": "code",
      "metadata": {
        "id": "QmLMkvdeQo0x",
        "colab_type": "code",
        "colab": {}
      },
      "source": [
        "from sklearn.model_selection import KFold\n",
        "from sklearn.model_selection import GridSearchCV"
      ],
      "execution_count": null,
      "outputs": []
    },
    {
      "cell_type": "code",
      "metadata": {
        "id": "mWxFKuO6avsY",
        "colab_type": "code",
        "colab": {}
      },
      "source": [
        "hypers = { 'C': np.logspace(-1,2,4), 'gamma': np.logspace(-2,-1,2), 'kernel' : ['rbf', 'poly', 'linear']}\n",
        "clfSVC = svm.SVC()\n",
        "dfSVM = dfEvaluation.copy()"
      ],
      "execution_count": null,
      "outputs": []
    },
    {
      "cell_type": "code",
      "metadata": {
        "id": "hECXdcUOMG82",
        "colab_type": "code",
        "colab": {}
      },
      "source": [
        "gridSVM = GridSearchCV(clfSVC, hypers, cv = 3)"
      ],
      "execution_count": null,
      "outputs": []
    },
    {
      "cell_type": "code",
      "metadata": {
        "id": "pJEFpZdaZ0U0",
        "colab_type": "code",
        "colab": {}
      },
      "source": [
        "gridSVM.fit(pcaDev, dfDevelopment['label'].tolist())"
      ],
      "execution_count": null,
      "outputs": []
    },
    {
      "cell_type": "code",
      "metadata": {
        "id": "eb5YZaEAQuqI",
        "colab_type": "code",
        "colab": {}
      },
      "source": [
        "print(\"The best parameters are %s with a score of %0.2f\"\n",
        "      % (gridSVM.best_params_, gridSVM.best_score_))"
      ],
      "execution_count": null,
      "outputs": []
    },
    {
      "cell_type": "code",
      "metadata": {
        "id": "TLJ9ytRygZdE",
        "colab_type": "code",
        "colab": {}
      },
      "source": [
        "gridResult = pd.concat([pd.DataFrame(gridSVM.cv_results_[\"params\"]),pd.DataFrame(gridSVM.cv_results_[\"mean_test_score\"], columns=[\"Accuracy\"])],axis=1)"
      ],
      "execution_count": null,
      "outputs": []
    },
    {
      "cell_type": "code",
      "metadata": {
        "id": "uZUDO5b3g_iq",
        "colab_type": "code",
        "colab": {}
      },
      "source": [
        "print(gridResult.to_string()) "
      ],
      "execution_count": null,
      "outputs": []
    },
    {
      "cell_type": "code",
      "metadata": {
        "id": "uo9o_sVxOz-V",
        "colab_type": "code",
        "colab": {}
      },
      "source": [
        "dfSVM.head()"
      ],
      "execution_count": null,
      "outputs": []
    },
    {
      "cell_type": "code",
      "metadata": {
        "id": "HESverzFrM3e",
        "colab_type": "code",
        "colab": {}
      },
      "source": [
        "dfSVM[['Id','Predicted']].to_csv('SVM_solutions.csv',index=False)\n",
        "!cp SVM_solutions.csv \"drive/My Drive/DSL_Data\""
      ],
      "execution_count": null,
      "outputs": []
    },
    {
      "cell_type": "markdown",
      "metadata": {
        "id": "PmHTnEwQwkBE",
        "colab_type": "text"
      },
      "source": [
        "### KNN"
      ]
    },
    {
      "cell_type": "code",
      "metadata": {
        "id": "Dc_u9f2w0SwX",
        "colab_type": "code",
        "colab": {}
      },
      "source": [
        "clfKNN = KNeighborsClassifier(n_neighbors = 7)\n",
        "dfKNN = dfEvaluation.copy()"
      ],
      "execution_count": null,
      "outputs": []
    },
    {
      "cell_type": "code",
      "metadata": {
        "id": "y5YeZUpN0ec6",
        "colab_type": "code",
        "colab": {}
      },
      "source": [
        "print(metrics.f1_score(clfKNN.fit(X_train, y_train).predict( X_test ), y_test,average='macro'))\n",
        "\n",
        "# res = clfKNN.fit(pcaDev, dfDevelopment['label'].tolist()).predict( pcaEv )\n",
        "# dfKNN['Predicted'] = res"
      ],
      "execution_count": null,
      "outputs": []
    },
    {
      "cell_type": "code",
      "metadata": {
        "id": "yO8De5DXIzyB",
        "colab_type": "code",
        "colab": {}
      },
      "source": [
        "dfSVM[['Id','Predicted']].to_csv('KNN_solutions.csv',index=False)\n",
        "!cp KNN_solutions.csv \"drive/My Drive/DSL_Data\""
      ],
      "execution_count": null,
      "outputs": []
    },
    {
      "cell_type": "code",
      "metadata": {
        "id": "Z65j4sH5RU1K",
        "colab_type": "code",
        "colab": {}
      },
      "source": [
        "fig, ax = plt.subplots(figsize=(15, 15))\n",
        "plot_confusion_matrix(clfSVC, X_test, y_test, cmap = plt.cm.Blues, ax = ax, normalize = 'true') \n",
        "plt.show()"
      ],
      "execution_count": null,
      "outputs": []
    },
    {
      "cell_type": "markdown",
      "metadata": {
        "id": "1kiyr6o4IHla",
        "colab_type": "text"
      },
      "source": [
        "### Logistic Regression"
      ]
    },
    {
      "cell_type": "code",
      "metadata": {
        "id": "_BcCobSIIG8y",
        "colab_type": "code",
        "colab": {}
      },
      "source": [
        "clfLR = LogisticRegression(max_iter = 100, C = 10, solver = 'newton-cg')\n",
        "dfLR = dfEvaluation.copy()"
      ],
      "execution_count": null,
      "outputs": []
    },
    {
      "cell_type": "code",
      "metadata": {
        "id": "_WI_K5HpIsBt",
        "colab_type": "code",
        "colab": {}
      },
      "source": [
        "print(metrics.f1_score(clfLR.fit(X_train, y_train).predict( X_test ), y_test,average='macro'))\n",
        "\n",
        "#res = clfLR.fit(pcaDev, dfDevelopment['label'].tolist()).predict( pcaEv )\n",
        "#dfLR['Predicted'] = res"
      ],
      "execution_count": null,
      "outputs": []
    },
    {
      "cell_type": "code",
      "metadata": {
        "id": "hQ3RLKYNI-Q8",
        "colab_type": "code",
        "colab": {}
      },
      "source": [
        "dfSVM[['Id','Predicted']].to_csv('LR_solutions.csv',index=False)\n",
        "!cp LR_solutions.csv \"drive/My Drive/DSL_Data\""
      ],
      "execution_count": null,
      "outputs": []
    },
    {
      "cell_type": "code",
      "metadata": {
        "id": "yf_HBeZZRWyr",
        "colab_type": "code",
        "colab": {}
      },
      "source": [
        "fig, ax = plt.subplots(figsize=(15, 15))\n",
        "plot_confusion_matrix(clfLR, X_test, y_test, cmap = plt.cm.Blues, ax = ax, normalize = 'true') \n",
        "plt.show()"
      ],
      "execution_count": null,
      "outputs": []
    },
    {
      "cell_type": "markdown",
      "metadata": {
        "id": "Sg5iex_J1rx_",
        "colab_type": "text"
      },
      "source": [
        "### Naive Bayes"
      ]
    },
    {
      "cell_type": "code",
      "metadata": {
        "id": "A_I9g90C17Ge",
        "colab_type": "code",
        "colab": {}
      },
      "source": [
        "clfNB = GaussianNB()\n",
        "dfNB = dfEvaluation.copy()"
      ],
      "execution_count": null,
      "outputs": []
    },
    {
      "cell_type": "code",
      "metadata": {
        "id": "RPfwQ73f1_Jn",
        "colab_type": "code",
        "colab": {}
      },
      "source": [
        "print(metrics.f1_score(clfNB.fit(X_train, y_train).predict( X_test ), y_test,average='macro'))\n",
        "\n",
        "# res = clfNB.fit(pcaDev, dfDevelopment['label'].tolist()).predict( pcaEv )\n",
        "# dfNB['Predicted'] = res"
      ],
      "execution_count": null,
      "outputs": []
    },
    {
      "cell_type": "code",
      "metadata": {
        "id": "OLJeQLg92I8_",
        "colab_type": "code",
        "colab": {}
      },
      "source": [
        "dfNB[['Id','Predicted']].to_csv('NB_solutions.csv',index=False)\n",
        "!cp NB_solutions.csv \"drive/My Drive/DSL_Data\""
      ],
      "execution_count": null,
      "outputs": []
    },
    {
      "cell_type": "code",
      "metadata": {
        "id": "_tYOzNzVRYpS",
        "colab_type": "code",
        "colab": {}
      },
      "source": [
        "fig, ax = plt.subplots(figsize=(15, 15))\n",
        "plot_confusion_matrix(clfNB, X_test, y_test, cmap = plt.cm.Blues, ax = ax, normalize = 'true') \n",
        "plt.show()"
      ],
      "execution_count": null,
      "outputs": []
    }
  ]
}